{
 "cells": [
  {
   "cell_type": "code",
   "execution_count": 2,
   "id": "9f17f319",
   "metadata": {},
   "outputs": [
    {
     "data": {
      "text/plain": [
       "['Apple', 'Cherry', 'Hard rock', 'Kolkata']"
      ]
     },
     "execution_count": 2,
     "metadata": {},
     "output_type": "execute_result"
    }
   ],
   "source": [
    "#Creating a list\n",
    "L1 = [\"MN\", \"Apple\",\"Cherry\",\"Hard rock\"]\n",
    "#Appending in list\n",
    "L1.append(\"Kolkata\")\n",
    "#Removing an element from list\n",
    "L1.remove(L1[0])\n",
    "#printing updated list\n",
    "L1\n"
   ]
  },
  {
   "cell_type": "code",
   "execution_count": 3,
   "id": "1514ca69",
   "metadata": {},
   "outputs": [
    {
     "data": {
      "text/plain": [
       "{'Delhi', 'Mumbai', 'Singapore'}"
      ]
     },
     "execution_count": 3,
     "metadata": {},
     "output_type": "execute_result"
    }
   ],
   "source": [
    "#Creating a Set\n",
    "Q = {'Delhi', 'Mumbai', 'New South Wales'}\n",
    "#Adding an element\n",
    "Q.add('Singapore')\n",
    "#Removing an element\n",
    "Q.remove('New South Wales')\n",
    "#printing updated set\n",
    "Q\n"
   ]
  },
  {
   "cell_type": "code",
   "execution_count": 7,
   "id": "63fa7965",
   "metadata": {},
   "outputs": [
    {
     "data": {
      "text/plain": [
       "dict_keys([1, 2, 3])"
      ]
     },
     "execution_count": 7,
     "metadata": {},
     "output_type": "execute_result"
    }
   ],
   "source": [
    "#Creating a dictionary\n",
    "Student_names = { 1: 'Nina', 2 : 'Tamara', 3 : 'Anahita'}\n",
    "#printing the keys\n",
    "Student_names.keys()\n"
   ]
  },
  {
   "cell_type": "code",
   "execution_count": 8,
   "id": "0f3fb985",
   "metadata": {},
   "outputs": [
    {
     "data": {
      "text/plain": [
       "dict_values(['Nina', 'Tamara', 'Anahita'])"
      ]
     },
     "execution_count": 8,
     "metadata": {},
     "output_type": "execute_result"
    }
   ],
   "source": [
    "#printing the values\n",
    "Student_names.values()\n"
   ]
  },
  {
   "cell_type": "code",
   "execution_count": 12,
   "id": "66465fce",
   "metadata": {},
   "outputs": [
    {
     "data": {
      "text/plain": [
       "{1: 'Nina', 2: 'Tamara', 3: 'Anahita'}"
      ]
     },
     "execution_count": 12,
     "metadata": {},
     "output_type": "execute_result"
    }
   ],
   "source": [
    "#adding elements in dictionary\n",
    "Student_names.update({4: \"Amba\"})\n",
    "#Removing elements in dictionary\n",
    "Student_names.pop(4)\n",
    "#Printing updated dictionary\n",
    "Student_names\n",
    "\n",
    "\n"
   ]
  },
  {
   "cell_type": "code",
   "execution_count": null,
   "id": "c82e60cc",
   "metadata": {},
   "outputs": [],
   "source": []
  },
  {
   "cell_type": "code",
   "execution_count": null,
   "id": "4b313aab",
   "metadata": {},
   "outputs": [],
   "source": []
  }
 ],
 "metadata": {
  "kernelspec": {
   "display_name": "Python 3",
   "language": "python",
   "name": "python3"
  },
  "language_info": {
   "codemirror_mode": {
    "name": "ipython",
    "version": 3
   },
   "file_extension": ".py",
   "mimetype": "text/x-python",
   "name": "python",
   "nbconvert_exporter": "python",
   "pygments_lexer": "ipython3",
   "version": "3.6.8"
  }
 },
 "nbformat": 4,
 "nbformat_minor": 5
}
